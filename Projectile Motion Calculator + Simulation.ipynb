{
 "cells": [
  {
   "cell_type": "code",
   "execution_count": 6,
   "metadata": {},
   "outputs": [],
   "source": [
    "import numpy as np\n",
    "import matplotlib.pyplot as plt \n",
    "from math import cos, sin, radians, sqrt\n",
    "\n",
    "%matplotlib inline    "
   ]
  },
  {
   "cell_type": "markdown",
   "metadata": {},
   "source": [
    "Steps and Formulas that need to be known:"
   ]
  },
  {
   "cell_type": "markdown",
   "metadata": {},
   "source": [
    "Derivative: \n",
    "$$f'(a) = \\frac{f(a+h) - f(a)}{h}$$\n",
    "\n",
    "\n",
    "\n",
    "\n",
    "$$\\frac{dx}{dt} \\approx \\frac{\\Delta x}{\\Delta t} = \\frac{x_{i+1} - x_{i}}{\\Delta t}$$\n"
   ]
  },
  {
   "cell_type": "markdown",
   "metadata": {},
   "source": [
    "Euler's Method: \n",
    "$$x_{i+1} = x_i + \\frac{dx}{dt} \\Delta t$$\n",
    "\n",
    "\n",
    "\n",
    "\n",
    "a = -g\n",
    "dy/dt = v0-g*t\n",
    "y = v0*t - 1/2 * g * t^2\n",
    "\n",
    "a = 0\n",
    "dx/dt = v0\n",
    "x = v0*t"
   ]
  },
  {
   "cell_type": "markdown",
   "metadata": {},
   "source": [
    "$$I created a Projectile Calculator to calculate the Time, Final Velocity,and Momentum of any Objects from any given heights!!\n"
   ]
  },
  {
   "cell_type": "markdown",
   "metadata": {},
   "source": [
    "$$In\\space this\\space case,\\space I\\space used\\space myself\\space as\\space reference\\space since\\space i\\space fell\\space down\\space 3\\space meters\\space high\\space and\\space hurt\\space myself\\space really\\space bad.\\space After\\space recovering,\\space I\\space wanted\\space to\\space know\\space how\\space hard\\space I\\space hit\\space the\\space floor.\\$$    \n",
    "\n"
   ]
  },
  {
   "cell_type": "code",
   "execution_count": 20,
   "metadata": {},
   "outputs": [
    {
     "data": {
      "image/png": "[encoded data removed]",
      "text/plain": [
       "<Figure size 432x288 with 1 Axes>"
      ]
     },
     "metadata": {
      "needs_background": "light"
     },
     "output_type": "display_data"
    },
    {
     "name": "stdout",
     "output_type": "stream",
     "text": [
      "t[imin]= 0.9 s\n",
      "Vf= 9.752192752896988 m/s\n",
      "P(Momentum)= 682.6534927027892 N*s\n",
      "\n",
      "Check with a Doctor ( ͡ ͜ ʖ ͡°)\n"
     ]
    }
   ],
   "source": [
    "#constant\n",
    "g= -9.8   #m/s\n",
    "m= 70     #kg     #(my current weight)\n",
    "V= 5      #m/s\n",
    "theta= 5\n",
    "Vxi= V*cos(radians(theta)) #m/s\n",
    "Vyi= V*sin(radians(theta)) #m/s\n",
    "dt= 0.1   #s\n",
    "imax= 10\n",
    "\n",
    "#height from where I fell off...\n",
    "h= 3      #m\n",
    "\n",
    "#Vyi after adding h[0]\n",
    "#Vyi= h/t[i] + 1/2*g*t[i]\n",
    "\n",
    "#variable\n",
    "x= np.zeros(imax)\n",
    "y= np.zeros(imax)\n",
    "t= np.arange(imax)*dt\n",
    "\n",
    "#initial condition\n",
    "y[0]= h\n",
    "\n",
    "for i in range (0,imax-1):\n",
    "    \n",
    "    #equation\n",
    "    dx_dt= Vxi\n",
    "    dy_dt= Vyi + g*t[i]\n",
    "    \n",
    "    #euler's method\n",
    "    x[i+1]= dx_dt*dt + x[i]\n",
    "    y[i+1]= dy_dt*dt + y[i]\n",
    "    \n",
    "#plotting\n",
    "plt.figure()\n",
    "plt.plot(x,np.abs(y))\n",
    "plt.show()\n",
    "\n",
    "#-------------------------------------------------------------------------------------------------------------------------------\n",
    "imin= np.argmin(np.abs(y))\n",
    "Vxf= Vxi\n",
    "Vyf= Vyi + g*t[imin]\n",
    "\n",
    "Vf= sqrt(Vxf**2 + Vyf**2)\n",
    "\n",
    "#The force of impact before hitting the ground\n",
    "P= abs(m*Vf)\n",
    "\n",
    "print (\"t[imin]= \" + str(t[imin]) + \" s\")\n",
    "print (\"Vf= \" + str(Vf) + \" m/s\")\n",
    "print (\"P(Momentum)= \" + str(P) + \" N*s\")\n",
    "print (\"\")\n",
    "\n",
    "#Human can withstand Pmax= 2061.68 N*s\n",
    "Pmax= Pmax= 2061.68 #N*s\n",
    "if P>= Pmax:\n",
    "    print (\"Definetely Dead\")\n",
    "elif Pmax/2.5< P < Pmax:\n",
    "    print (\"Deathly Injury\")\n",
    "elif Pmax/4< P < Pmax/2.5:\n",
    "    print (\"Check with a Doctor ( ͡ ͜ ʖ ͡°)\")\n",
    "elif P< Pmax/4:\n",
    "    print (\"You'll be alright!\")"
   ]
  },
  {
   "cell_type": "markdown",
   "metadata": {},
   "source": [
    "$$The\\space Graphs\\space Below\\space are\\space my\\space Test\\space Graphs:\\$$"
   ]
  },
  {
   "cell_type": "markdown",
   "metadata": {},
   "source": [
    "Projectile Motion Graph:"
   ]
  },
  {
   "cell_type": "code",
   "execution_count": 21,
   "metadata": {},
   "outputs": [
    {
     "data": {
      "image/png": "[encoded data removed]",
      "text/plain": [
       "<Figure size 432x288 with 1 Axes>"
      ]
     },
     "metadata": {
      "needs_background": "light"
     },
     "output_type": "display_data"
    }
   ],
   "source": [
    "#constants\n",
    "g  =   -9.8  #m/s^2\n",
    "theta = 60   #'\n",
    "dt =    0.09 #s\n",
    "V=      50   #m/s\n",
    "Vxi=    V*cos(radians(theta))   #m/s\n",
    "Vyi=    V*sin(radians(theta))   #m/s\n",
    "\n",
    "\n",
    "#variables\n",
    "x= np.zeros(100)\n",
    "y= np.zeros(100)\n",
    "t= np.arange(100)*dt\n",
    "\n",
    "for i in range (0,100-1):\n",
    "    #(equation)'\n",
    "    dx_dt= Vxi\n",
    "    dy_dt= Vyi+g*t[i]\n",
    "\n",
    "    #euler's method\n",
    "    x[i+1]= dx_dt*dt + x[i]\n",
    "    y[i+1]= dy_dt*dt + y[i]\n",
    "    \n",
    "#plotting\n",
    "plt.figure()\n",
    "plt.plot(x,y)\n",
    "plt.show()\n"
   ]
  },
  {
   "cell_type": "markdown",
   "metadata": {},
   "source": [
    "Simple Harmonic Motion Graph:"
   ]
  },
  {
   "cell_type": "code",
   "execution_count": 22,
   "metadata": {},
   "outputs": [
    {
     "data": {
      "image/png": "[encoded data removed]",
      "text/plain": [
       "<Figure size 432x288 with 1 Axes>"
      ]
     },
     "metadata": {
      "needs_background": "light"
     },
     "output_type": "display_data"
    }
   ],
   "source": [
    "#constant\n",
    "g= -9.8    #m/s^2\n",
    "m= 100     #kg\n",
    "k= 50      #N/m\n",
    "imax= 2000 #steps\n",
    "dt= 0.01   #s\n",
    "\n",
    "#variables\n",
    "x= np.zeros(imax)\n",
    "t= np.arange(imax)*dt\n",
    "v= np.zeros(imax)\n",
    "\n",
    "#initial conditions\n",
    "x[0] = 10\n",
    "\n",
    "for i in range (0,imax-1):\n",
    "\n",
    "    #equation\n",
    "    dx_dt= v[i]\n",
    "    dv_dt= g-k*x[i]/m\n",
    "    \n",
    "    #euler's method\n",
    "    x[i+1]= dx_dt*dt + x[i]\n",
    "    v[i+1]= dv_dt*dt + v[i]\n",
    "\n",
    "#plotting\n",
    "plt.figure()\n",
    "plt.plot(t,x)\n",
    "plt.show()"
   ]
  },
  {
   "cell_type": "code",
   "execution_count": null,
   "metadata": {},
   "outputs": [],
   "source": []
  }
 ],
 "metadata": {
  "kernelspec": {
   "display_name": "Python 3",
   "language": "python",
   "name": "python3"
  },
  "language_info": {
   "codemirror_mode": {
    "name": "ipython",
    "version": 3
   },
   "file_extension": ".py",
   "mimetype": "text/x-python",
   "name": "python",
   "nbconvert_exporter": "python",
   "pygments_lexer": "ipython3",
   "version": "3.7.3"
  }
 },
 "nbformat": 4,
 "nbformat_minor": 2
}
